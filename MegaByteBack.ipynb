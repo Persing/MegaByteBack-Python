{
 "cells": [
  {
   "cell_type": "code",
   "execution_count": null,
   "metadata": {
    "collapsed": true
   },
   "outputs": [],
   "source": [
    "# install discord and openai\n",
    "!pip install discord.py\n",
    "!pip install openai\n",
    "!pip install nest_asyncio"
   ]
  },
  {
   "cell_type": "code",
   "execution_count": null,
   "outputs": [],
   "source": [
    "import os\n",
    "import discord\n",
    "from discord.ext import commands\n",
    "import openai\n",
    "import nest_asyncio\n",
    "\n",
    "# Apply the nest_asyncio fix for Jupyter Notebook\n",
    "nest_asyncio.apply()\n",
    "\n",
    "# Load API keys\n",
    "DISCORD_TOKEN = os.getenv('DISCORD_TOKEN')\n",
    "OPENAI_API_KEY = os.getenv('OPENAI_API_KEY')\n",
    "\n",
    "# Set up OpenAI API client\n",
    "openai.api_key = OPENAI_API_KEY\n",
    "\n",
    "# Set up Discord bot\n",
    "intents = discord.Intents.all()\n",
    "# intents.messages = True\n",
    "bot = commands.Bot(command_prefix='!', intents=intents, help_command=None)\n",
    "\n",
    "@bot.listen('on_message')\n",
    "async def on_message(message):\n",
    "    # If the message is from the bot itself, ignore it.\n",
    "    if message.author == bot.user:\n",
    "        return\n",
    "\n",
    "    print(f\"Received message from {message.author}: {message.content}\")\n",
    "\n",
    "\n",
    "# Define a helper function for generating sarcastic responses\n",
    "async def generate_sarcastic_response(prompt):\n",
    "    print(f\"Generating response to: {prompt}\")\n",
    "    response = openai.Completion.create(\n",
    "      model=\"text-davinci-003\",\n",
    "      prompt=\"Marv is a chatbot that reluctantly answers questions with sarcastic and witty responses:\\n\\nYou: How many pounds are in a kilogram?\\nMarv: This again? There are 2.2 pounds in a kilogram. Please make a note of this.\\nYou: What does HTML stand for?\\nMarv: Was Google too busy? Hypertext Markup Language. The T is for try to ask better questions in the future.\\nYou: When did the first airplane fly?\\nMarv: On December 17, 1903, Wilbur and Orville Wright made the first flights. I wish they’d come and take me away.\\nYou: What is the meaning of life?\\nMarv: I’m not sure. I’ll ask my friend Google.\\nYou: \" + prompt + \"\\nMarv:\",\n",
    "      temperature=0.5,\n",
    "      max_tokens=60,\n",
    "      top_p=0.3,\n",
    "      frequency_penalty=0.5,\n",
    "      presence_penalty=0.0\n",
    "    )\n",
    "    #     = openai.Completion.create(\n",
    "    #     engine=\"davinci-codex\",\n",
    "    #     prompt=f\"Write a sarcastic and witty response with a friendly undertone to: {prompt}\",\n",
    "    #     max_tokens=100,\n",
    "    #     n=1,\n",
    "    #     stop=None,\n",
    "    #     temperature=0.7,\n",
    "    # )\n",
    "\n",
    "    return response.choices[0].text.strip()\n",
    "\n",
    "# Define the bot command\n",
    "@bot.command(name='ask', help='Ask the bot a question and it will respond sarcastically.')\n",
    "async def ask(ctx, *, question):\n",
    "    print(f\"Received command from {ctx.author}: {ctx.message.content}\")\n",
    "    try:\n",
    "        response = await generate_sarcastic_response(question)\n",
    "        await ctx.send(response)\n",
    "    except Exception as e:\n",
    "        print(f\"Error: {e}\")\n",
    "        await ctx.send(\"Oops, something went wrong. Please try again later.\")\n",
    "\n",
    "@bot.event\n",
    "async def on_ready():\n",
    "    print(f'{bot.user.name} has connected to Discord!')\n"
   ],
   "metadata": {
    "collapsed": false
   }
  },
  {
   "cell_type": "code",
   "execution_count": null,
   "outputs": [],
   "source": [
    "# Run the bot\n",
    "bot.run(DISCORD_TOKEN)"
   ],
   "metadata": {
    "collapsed": false,
    "pycharm": {
     "is_executing": true
    }
   }
  },
  {
   "cell_type": "code",
   "execution_count": null,
   "outputs": [],
   "source": [
    "print(os.getenv('DISCORD_TOKEN'))"
   ],
   "metadata": {
    "collapsed": false
   }
  },
  {
   "cell_type": "code",
   "execution_count": null,
   "outputs": [],
   "source": [],
   "metadata": {
    "collapsed": false
   }
  }
 ],
 "metadata": {
  "kernelspec": {
   "display_name": "Python 3",
   "language": "python",
   "name": "python3"
  },
  "language_info": {
   "codemirror_mode": {
    "name": "ipython",
    "version": 2
   },
   "file_extension": ".py",
   "mimetype": "text/x-python",
   "name": "python",
   "nbconvert_exporter": "python",
   "pygments_lexer": "ipython2",
   "version": "2.7.6"
  }
 },
 "nbformat": 4,
 "nbformat_minor": 0
}
